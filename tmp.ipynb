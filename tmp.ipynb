{
 "cells": [
  {
   "cell_type": "code",
   "execution_count": 1,
   "metadata": {},
   "outputs": [],
   "source": [
    "import numpy as np"
   ]
  },
  {
   "cell_type": "code",
   "execution_count": 3,
   "metadata": {},
   "outputs": [],
   "source": [
    "def convert_anc_count2(phgeno, anc):\n",
    "    \"\"\"\n",
    "    Convert from ancestry and phased genotype to number of minor alles for each ancestry\n",
    "\n",
    "    Args\n",
    "    ----\n",
    "    phgeno: n_indiv x 2n_snp, the first half columns contain the first haplotype,\n",
    "        the second half columns contain the second haplotype\n",
    "    anc: n_indiv x 2n_snp, match `phgeno`\n",
    "\n",
    "    Returns\n",
    "    ----\n",
    "    geno: n_indiv x 2n_snp, the first half columns stores the number of minor alleles \n",
    "        from the first ancestry, the second half columns stores the number of minor\n",
    "        alleles from the second ancestry\n",
    "    \"\"\"\n",
    "    n_indiv = anc.shape[0]\n",
    "    n_snp = anc.shape[1] // 2\n",
    "    n_anc = 2\n",
    "    geno = np.zeros_like(phgeno)\n",
    "    for haplo_i in range(2):\n",
    "        haplo_slice = slice(haplo_i * n_snp, (haplo_i + 1) * n_snp)\n",
    "        haplo_phgeno = phgeno[:, haplo_slice]\n",
    "        haplo_anc = anc[:, haplo_slice]\n",
    "        for anc_i in range(n_anc):\n",
    "            geno[:, (anc_i * n_snp) : ((anc_i + 1) * n_snp)][haplo_anc == anc_i] += haplo_phgeno[haplo_anc == anc_i]\n",
    "\n",
    "    return geno"
   ]
  },
  {
   "cell_type": "code",
   "execution_count": 4,
   "metadata": {},
   "outputs": [],
   "source": [
    "from os.path import join"
   ]
  },
  {
   "cell_type": "code",
   "execution_count": 5,
   "metadata": {},
   "outputs": [],
   "source": [
    "DATA_DIR = \"/u/project/pasaniuc/pasaniucdata/admixture/kangcheng/phenotype_simulation/out\"\n",
    "DATASET = \"ukb_array/EUR_0.5_AFR_0.5_10_10000\"\n",
    "anc = np.load(join(DATA_DIR, DATASET, \"anc.npy\"))\n",
    "phgeno = np.load(join(DATA_DIR, DATASET, \"phgeno.npy\"))\n",
    "\n",
    "subset_index = np.arange(0, anc.shape[1], 1000)\n",
    "anc = anc[:, subset_index]\n",
    "phgeno = phgeno[:, subset_index]\n",
    "n_indiv = anc.shape[0] // 2\n",
    "n_snp = anc.shape[1]\n",
    "anc = anc.reshape((n_indiv, n_snp * 2))\n",
    "phgeno = phgeno.reshape((n_indiv, n_snp * 2))"
   ]
  },
  {
   "cell_type": "code",
   "execution_count": 38,
   "metadata": {},
   "outputs": [],
   "source": [
    "import admix\n",
    "anc = np.random.randint(0, 2, size=(10, 6))\n",
    "phgeno = np.random.randint(0, 2, size=(10, 6))\n",
    "count1 = admix.convert_anc_count(phgeno=phgeno, anc=anc)\n",
    "count2 = convert_anc_count2(phgeno = phgeno, anc=anc)\n",
    "assert np.all(count1 == count2)"
   ]
  },
  {
   "cell_type": "code",
   "execution_count": 32,
   "metadata": {},
   "outputs": [
    {
     "ename": "AttributeError",
     "evalue": "module 'admix' has no attribute 'simulate_admix_phenotype_cc'",
     "output_type": "error",
     "traceback": [
      "\u001b[0;31m\u001b[0m",
      "\u001b[0;31mAttributeError\u001b[0mTraceback (most recent call last)",
      "\u001b[0;32m<ipython-input-32-2acfe911425a>\u001b[0m in \u001b[0;36m<module>\u001b[0;34m\u001b[0m\n\u001b[1;32m      1\u001b[0m \u001b[0mn_sim\u001b[0m \u001b[0;34m=\u001b[0m \u001b[0;36m10\u001b[0m\u001b[0;34m\u001b[0m\u001b[0m\n\u001b[0;32m----> 2\u001b[0;31m beta, phe_g, phe = admix.simulate_admix_phenotype_cc(phgeno, anc, var_g=0., \n\u001b[0m\u001b[1;32m      3\u001b[0m                                                      n_causal=1, cov=1.0, n_sim=n_sim, case_prevalence=0.2)\n\u001b[1;32m      4\u001b[0m \u001b[0;34m\u001b[0m\u001b[0m\n\u001b[1;32m      5\u001b[0m \u001b[0mall_score_df\u001b[0m \u001b[0;34m=\u001b[0m \u001b[0;34m[\u001b[0m\u001b[0;34m]\u001b[0m\u001b[0;34m\u001b[0m\u001b[0m\n",
      "\u001b[0;31mAttributeError\u001b[0m: module 'admix' has no attribute 'simulate_admix_phenotype_cc'"
     ]
    }
   ],
   "source": [
    "n_sim = 10\n",
    "beta, phe_g, phe = admix.simulate_admix_phenotype_cc(phgeno, anc, var_g=0., \n",
    "                                                     n_causal=1, cov=1.0, n_sim=n_sim, case_prevalence=0.2)\n",
    "\n",
    "all_score_df = []\n",
    "for sim_i in range(n_sim):\n",
    "\n",
    "    mix_pheno = phe[:, sim_i]\n",
    "    mix_anc = admix.add_up_haplotype(anc)\n",
    "    mix_geno = admix.add_up_haplotype(phgeno)\n",
    "    mix_theta = anc.mean(axis=1)\n",
    "    \n",
    "    # sample case control\n",
    "    study_index = admix.sample_case_control(mix_pheno)\n",
    "    score_df = admix.mixscore_wrapper(mix_pheno[study_index], mix_anc[study_index, :], mix_geno[study_index, :], \n",
    "                                      mix_theta[study_index])\n",
    "    score_df[\"SIM_I\"] = sim_i\n",
    "    all_score_df.append(score_df)\n",
    "all_score_df = pd.concat(all_score_df)"
   ]
  },
  {
   "cell_type": "code",
   "execution_count": null,
   "metadata": {},
   "outputs": [],
   "source": [
    "melted = all_score_df.iloc[:, 0:5].melt(var_name=\"score\", value_name=\"val\")\n",
    "ax = sns.violinplot(x=\"score\", y=\"val\", data=melted)\n",
    "means = melted.groupby(['score'])['val'].mean()"
   ]
  },
  {
   "cell_type": "code",
   "execution_count": null,
   "metadata": {},
   "outputs": [],
   "source": []
  }
 ],
 "metadata": {
  "kernelspec": {
   "display_name": "Python 3",
   "language": "python",
   "name": "python3"
  },
  "language_info": {
   "codemirror_mode": {
    "name": "ipython",
    "version": 3
   },
   "file_extension": ".py",
   "mimetype": "text/x-python",
   "name": "python",
   "nbconvert_exporter": "python",
   "pygments_lexer": "ipython3",
   "version": "3.7.0"
  }
 },
 "nbformat": 4,
 "nbformat_minor": 2
}
