{
 "cells": [
  {
   "cell_type": "markdown",
   "id": "cf16b222-3141-40a2-9208-9090e14b6b58",
   "metadata": {},
   "source": [
    "# Prepare metadata for RFmix"
   ]
  },
  {
   "cell_type": "code",
   "execution_count": 1,
   "id": "2843b6c9-391b-405e-a043-d1d629bde81c",
   "metadata": {},
   "outputs": [],
   "source": [
    "import pandas as pd\n",
    "from os.path import join"
   ]
  },
  {
   "cell_type": "code",
   "execution_count": 2,
   "id": "24635df5-6fd9-4dff-9567-53b012436cbc",
   "metadata": {},
   "outputs": [],
   "source": [
    "dir_kg = \"/u/project/pasaniuc/pasaniucdata/DATA/1000_Genomes_30x_GRCh38_phased\""
   ]
  },
  {
   "cell_type": "code",
   "execution_count": 3,
   "id": "df5b4844-1414-4757-9aae-673c492a22ed",
   "metadata": {},
   "outputs": [],
   "source": [
    "sample_map = pd.read_csv(join(dir_kg, \"sample_info.tsv\"), sep='\\t')\n",
    "sample_map[sample_map[\"Superpopulation code\"].isin([\"EUR\", \"AFR\"])][[\"Sample name\", \"Superpopulation code\"]].to_csv(\"metadata/sample_map.tsv\", sep='\\t', index=False, header=False)"
   ]
  },
  {
   "cell_type": "code",
   "execution_count": 12,
   "id": "a49edc7a-bdc9-49a3-ba4b-1c873bd73e14",
   "metadata": {},
   "outputs": [],
   "source": [
    "for i_chr in range(1, 23):\n",
    "    raw_map = pd.read_csv(f\"metadata/genetic_map/raw/plink.chr{i_chr}.GRCh38.map\", delim_whitespace=True, header=None)\n",
    "    raw_map = raw_map[[0, 3, 2]]\n",
    "    raw_map.to_csv(f\"metadata/genetic_map/chr{i_chr}.tsv\", sep='\\t', index=False, header=False)"
   ]
  }
 ],
 "metadata": {
  "kernelspec": {
   "display_name": "Python 3",
   "language": "python",
   "name": "python3"
  },
  "language_info": {
   "codemirror_mode": {
    "name": "ipython",
    "version": 3
   },
   "file_extension": ".py",
   "mimetype": "text/x-python",
   "name": "python",
   "nbconvert_exporter": "python",
   "pygments_lexer": "ipython3",
   "version": "3.8.5"
  }
 },
 "nbformat": 4,
 "nbformat_minor": 5
}
