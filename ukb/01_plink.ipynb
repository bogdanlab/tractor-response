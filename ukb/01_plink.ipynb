{
 "cells": [
  {
   "cell_type": "markdown",
   "id": "7f8daa1b-0808-4cf7-b326-ae25c0e8dce9",
   "metadata": {},
   "source": [
    "# Preprocessing and prepare phenotypes\n",
    "\n",
    "- `qsub 01_plink.sh` Basic filtering\n",
    "- `qsub 01_plink_pca.sh` Perform in-sample PCA"
   ]
  },
  {
   "cell_type": "code",
   "execution_count": 1,
   "id": "37377602-d88f-48dd-ad07-49b4c10c212b",
   "metadata": {},
   "outputs": [],
   "source": [
    "import numpy as np\n",
    "from os.path import join\n",
    "import xarray as xr\n",
    "import pandas as pd\n",
    "import statsmodels.api as sm\n",
    "import matplotlib.pyplot as plt\n",
    "from sklearn.preprocessing import quantile_transform"
   ]
  },
  {
   "cell_type": "markdown",
   "id": "14c82295-3d56-4952-bb75-66b93192bebc",
   "metadata": {},
   "source": [
    "# Extract phenotypes"
   ]
  },
  {
   "cell_type": "code",
   "execution_count": 3,
   "id": "ca364b48-c93b-4ba4-9a0a-a39aa8b41865",
   "metadata": {},
   "outputs": [],
   "source": [
    "path_pheno = \"00_data/trait_pheno.csv\"\n",
    "\n",
    "out_dir = \"01_plink\"\n",
    "pheno = pd.read_csv(path_pheno, index_col=0)\n",
    "\n",
    "# extract phenotype\n",
    "for col_trait in [\"cholesterol\", \"ldl_direct\"]:\n",
    "    plink_pheno = pheno[[col_trait]].copy()\n",
    "    # quantile normalization\n",
    "    plink_pheno[col_trait] = quantile_transform(plink_pheno[[col_trait]], output_distribution=\"normal\", n_quantiles=pheno.shape[0])\n",
    "    plink_pheno[\"FID\"] = plink_pheno[\"IID\"] = plink_pheno.index\n",
    "    plink_pheno[[\"FID\", \"IID\", col_trait]].to_csv(join(out_dir, f\"{col_trait}.pheno\"), index=False, sep='\\t', na_rep='NA', float_format=\"%.8f\")\n",
    "    \n",
    "# extract covariance\n",
    "col_covar = [\"AGE\", \"SEX\", \"dilution_factor\"]\n",
    "plink_covar = pheno[col_covar].copy()\n",
    "plink_covar[\"FID\"] = plink_covar[\"IID\"] = plink_covar.index\n",
    "df_pc = pd.read_csv(\"01_plink/pca.eigenvec\", delim_whitespace=True, header=None, names=[\"FID\", \"IID\"] + [f\"PC{i + 1}\" for i in range(20)])\n",
    "plink_covar = pd.merge(plink_covar, df_pc, on=[\"FID\", \"IID\"])\n",
    "# impute missing covariates with median\n",
    "plink_covar = plink_covar.fillna(plink_covar.median())\n",
    "plink_covar[[\"FID\", \"IID\", *(col_covar + [f\"PC{i + 1}\" for i in range(10)])]].to_csv(join(out_dir, \"covar.txt\"), index=False, sep='\\t', na_rep='NA', float_format=\"%.8f\")"
   ]
  }
 ],
 "metadata": {
  "kernelspec": {
   "display_name": "Python 3",
   "language": "python",
   "name": "python3"
  },
  "language_info": {
   "codemirror_mode": {
    "name": "ipython",
    "version": 3
   },
   "file_extension": ".py",
   "mimetype": "text/x-python",
   "name": "python",
   "nbconvert_exporter": "python",
   "pygments_lexer": "ipython3",
   "version": "3.8.5"
  }
 },
 "nbformat": 4,
 "nbformat_minor": 5
}
